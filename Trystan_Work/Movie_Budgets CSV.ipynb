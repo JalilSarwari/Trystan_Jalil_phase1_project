{
 "cells": [
  {
   "cell_type": "code",
   "execution_count": 2,
   "metadata": {},
   "outputs": [],
   "source": [
    "import pandas as pd\n",
    "import numpy as np\n",
    "import matplotlib.pyplot as plt\n",
    "import seaborn as sns\n",
    "\n",
    "%matplotlib inline"
   ]
  },
  {
   "cell_type": "code",
   "execution_count": 11,
   "metadata": {},
   "outputs": [
    {
     "data": {
      "text/html": [
       "<div>\n",
       "<style scoped>\n",
       "    .dataframe tbody tr th:only-of-type {\n",
       "        vertical-align: middle;\n",
       "    }\n",
       "\n",
       "    .dataframe tbody tr th {\n",
       "        vertical-align: top;\n",
       "    }\n",
       "\n",
       "    .dataframe thead th {\n",
       "        text-align: right;\n",
       "    }\n",
       "</style>\n",
       "<table border=\"1\" class=\"dataframe\">\n",
       "  <thead>\n",
       "    <tr style=\"text-align: right;\">\n",
       "      <th></th>\n",
       "      <th>id</th>\n",
       "      <th>release_date</th>\n",
       "      <th>movie</th>\n",
       "      <th>production_budget</th>\n",
       "      <th>domestic_gross</th>\n",
       "      <th>worldwide_gross</th>\n",
       "    </tr>\n",
       "  </thead>\n",
       "  <tbody>\n",
       "    <tr>\n",
       "      <th>3000</th>\n",
       "      <td>1</td>\n",
       "      <td>Dec 20, 1996</td>\n",
       "      <td>Scream</td>\n",
       "      <td>$15,000,000</td>\n",
       "      <td>$103,046,663</td>\n",
       "      <td>$173,046,663</td>\n",
       "    </tr>\n",
       "    <tr>\n",
       "      <th>3001</th>\n",
       "      <td>2</td>\n",
       "      <td>Aug 11, 2017</td>\n",
       "      <td>Annabelle: Creation</td>\n",
       "      <td>$15,000,000</td>\n",
       "      <td>$102,092,201</td>\n",
       "      <td>$305,384,865</td>\n",
       "    </tr>\n",
       "    <tr>\n",
       "      <th>3002</th>\n",
       "      <td>3</td>\n",
       "      <td>Oct 25, 2013</td>\n",
       "      <td>Jackass Presents: Bad Grandpa</td>\n",
       "      <td>$15,000,000</td>\n",
       "      <td>$102,003,019</td>\n",
       "      <td>$160,903,019</td>\n",
       "    </tr>\n",
       "    <tr>\n",
       "      <th>3003</th>\n",
       "      <td>4</td>\n",
       "      <td>Jun 28, 1978</td>\n",
       "      <td>Heaven Can Wait</td>\n",
       "      <td>$15,000,000</td>\n",
       "      <td>$98,800,000</td>\n",
       "      <td>$98,800,000</td>\n",
       "    </tr>\n",
       "    <tr>\n",
       "      <th>3004</th>\n",
       "      <td>5</td>\n",
       "      <td>Dec 18, 1985</td>\n",
       "      <td>The Color Purple</td>\n",
       "      <td>$15,000,000</td>\n",
       "      <td>$93,589,701</td>\n",
       "      <td>$93,589,701</td>\n",
       "    </tr>\n",
       "  </tbody>\n",
       "</table>\n",
       "</div>"
      ],
      "text/plain": [
       "      id  release_date                          movie production_budget  \\\n",
       "3000   1  Dec 20, 1996                         Scream       $15,000,000   \n",
       "3001   2  Aug 11, 2017            Annabelle: Creation       $15,000,000   \n",
       "3002   3  Oct 25, 2013  Jackass Presents: Bad Grandpa       $15,000,000   \n",
       "3003   4  Jun 28, 1978                Heaven Can Wait       $15,000,000   \n",
       "3004   5  Dec 18, 1985               The Color Purple       $15,000,000   \n",
       "\n",
       "     domestic_gross worldwide_gross  \n",
       "3000   $103,046,663    $173,046,663  \n",
       "3001   $102,092,201    $305,384,865  \n",
       "3002   $102,003,019    $160,903,019  \n",
       "3003    $98,800,000     $98,800,000  \n",
       "3004    $93,589,701     $93,589,701  "
      ]
     },
     "execution_count": 11,
     "metadata": {},
     "output_type": "execute_result"
    }
   ],
   "source": [
    "df =(pd.read_csv('zippedData/tn.movie_budgets.csv.gz', delimiter=','))\n",
    "df.iloc[3000:3005]"
   ]
  }
 ],
 "metadata": {
  "kernelspec": {
   "display_name": "Python (learn-env)",
   "language": "python",
   "name": "learn-env"
  },
  "language_info": {
   "codemirror_mode": {
    "name": "ipython",
    "version": 3
   },
   "file_extension": ".py",
   "mimetype": "text/x-python",
   "name": "python",
   "nbconvert_exporter": "python",
   "pygments_lexer": "ipython3",
   "version": "3.8.5"
  }
 },
 "nbformat": 4,
 "nbformat_minor": 4
}
